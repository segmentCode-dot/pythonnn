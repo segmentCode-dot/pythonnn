{
 "cells": [
  {
   "cell_type": "code",
   "execution_count": 1,
   "id": "28bdaad7",
   "metadata": {},
   "outputs": [
    {
     "name": "stdout",
     "output_type": "stream",
     "text": [
      "Enter the first float number: 4.5\n",
      "Enter the second float number: 5.6\n",
      "Enter the third float number: 7.5\n",
      "The sum of the numbers is: 17.6\n",
      "The average of the numbers is: 5.866666666666667\n"
     ]
    }
   ],
   "source": [
    "1\n",
    "def calculate_sum_and_average(num1, num2, num3):\n",
    "    total_sum = num1 + num2 + num3\n",
    "\n",
    "    average = total_sum / 3\n",
    "    \n",
    "    return total_sum, average\n",
    "\n",
    "num1 = float(input(\"Enter the first float number: \"))\n",
    "num2 = float(input(\"Enter the second float number: \"))\n",
    "num3 = float(input(\"Enter the third float number: \"))\n",
    "\n",
    "total_sum, average = calculate_sum_and_average(num1, num2, num3)\n",
    "\n",
    "print(f\"The sum of the numbers is: {total_sum}\")\n",
    "print(f\"The average of the numbers is: {average}\")"
   ]
  },
  {
   "cell_type": "code",
   "execution_count": 3,
   "id": "59ee4450",
   "metadata": {},
   "outputs": [
    {
     "name": "stdout",
     "output_type": "stream",
     "text": [
      "The volume of the sphere with radius 6 cm is: 904.78 cubic centimeters\n"
     ]
    }
   ],
   "source": [
    "2\n",
    "import math\n",
    "def calculate_volume_of_sphere(radius):\n",
    "    volume = (4/3) * math.pi * (radius ** 3)\n",
    "    return volume\n",
    "radius = 6 \n",
    "volume = calculate_volume_of_sphere(radius)\n",
    "\n",
    "print(f\"The volume of the sphere with radius {radius} cm is: {volume:.2f} cubic centimeters\")\n"
   ]
  },
  {
   "cell_type": "code",
   "execution_count": 4,
   "id": "b61b049b",
   "metadata": {},
   "outputs": [
    {
     "name": "stdout",
     "output_type": "stream",
     "text": [
      "Enter the radius of the circle: 3\n",
      "The area of the circle with radius 3.0 cm is: 28.27 square centimeters\n"
     ]
    }
   ],
   "source": [
    "3\n",
    "def calculate_area_of_circle(radius):\n",
    "    area = math.pi * (radius ** 2)\n",
    "    return area\n",
    "\n",
    "radius = float(input(\"Enter the radius of the circle: \"))\n",
    "\n",
    "\n",
    "area = calculate_area_of_circle(radius)\n",
    "\n",
    "print(f\"The area of the circle with radius {radius} cm is: {area:.2f} square centimeters\")"
   ]
  },
  {
   "cell_type": "code",
   "execution_count": 5,
   "id": "5dc504fc",
   "metadata": {},
   "outputs": [
    {
     "name": "stdout",
     "output_type": "stream",
     "text": [
      "Enter the principal amount: 400\n",
      "Enter the rate of interest (in %): 4\n",
      "Enter the time period (in years): 3\n",
      "The simple interest for the principal amount 400.0 at a rate of 4.0% over 3.0 years is: 48.00\n"
     ]
    }
   ],
   "source": [
    "4\n",
    "def calculate_simple_interest(principal, rate, time):\n",
    "\n",
    "    interest = (principal * rate * time) / 100\n",
    "    return interest\n",
    "principal = float(input(\"Enter the principal amount: \"))\n",
    "rate = float(input(\"Enter the rate of interest (in %): \"))\n",
    "time = float(input(\"Enter the time period (in years): \"))\n",
    "\n",
    "simple_interest = calculate_simple_interest(principal, rate, time)\n",
    "\n",
    "print(f\"The simple interest for the principal amount {principal} at a rate of {rate}% over {time} years is: {simple_interest:.2f}\")\n"
   ]
  },
  {
   "cell_type": "code",
   "execution_count": 8,
   "id": "795cdcda",
   "metadata": {},
   "outputs": [
    {
     "name": "stdout",
     "output_type": "stream",
     "text": [
      "Enter the first number (a): 200\n",
      "Enter the second number (b): 300\n",
      "Before swapping: a = 200, b = 300\n",
      "After swapping: a = 300, b = 200\n"
     ]
    }
   ],
   "source": [
    "5\n",
    "def swap_numbers(a, b):\n",
    "    print(f\"Before swapping: a = {a}, b = {b}\")\n",
    "\n",
    "    a = a + b  \n",
    "    b = a - b  \n",
    "    a = a - b  \n",
    "    \n",
    "    print(f\"After swapping: a = {a}, b = {b}\")\n",
    "\n",
    "a = int(input(\"Enter the first number (a): \"))\n",
    "b = int(input(\"Enter the second number (b): \"))\n",
    "swap_numbers(a, b)\n"
   ]
  },
  {
   "cell_type": "code",
   "execution_count": 9,
   "id": "7251a6eb",
   "metadata": {},
   "outputs": [
    {
     "name": "stdout",
     "output_type": "stream",
     "text": [
      "Enter the temperature in Celsius: 89\n",
      "The temperature in Fahrenheit is: 192.20°F\n"
     ]
    }
   ],
   "source": [
    "6\n",
    "def celsius_to_fahrenheit(celsius):\n",
    "    fahrenheit = (celsius * 9/5) + 32\n",
    "    return fahrenheit\n",
    "\n",
    "celsius = float(input(\"Enter the temperature in Celsius: \"))\n",
    "\n",
    "fahrenheit = celsius_to_fahrenheit(celsius)\n",
    "print(f\"The temperature in Fahrenheit is: {fahrenheit:.2f}°F\")\n",
    "\n"
   ]
  },
  {
   "cell_type": "code",
   "execution_count": 10,
   "id": "19630fe8",
   "metadata": {},
   "outputs": [
    {
     "name": "stdout",
     "output_type": "stream",
     "text": [
      "Enter the number of days: 45\n",
      "45 days is equivalent to 0 year(s), 1 month(s), 2 week(s), and 1 day(s).\n"
     ]
    }
   ],
   "source": [
    "7\n",
    "def convert_days(days):\n",
    "    days_in_year = 365\n",
    "    days_in_month = 30\n",
    "    days_in_week = 7\n",
    "    years = days // days_in_year\n",
    "    remaining_days = days % days_in_year\n",
    "    months = remaining_days // days_in_month\n",
    "    remaining_days = remaining_days % days_in_month\n",
    "    weeks = remaining_days // days_in_week\n",
    "\n",
    "    days = remaining_days % days_in_week\n",
    "\n",
    "    return years, months, weeks, days\n",
    "\n",
    "total_days = int(input(\"Enter the number of days: \"))\n",
    "\n",
    "years, months, weeks, days = convert_days(total_days)\n",
    "\n",
    "print(f\"{total_days} days is equivalent to {years} year(s), {months} month(s), {weeks} week(s), and {days} day(s).\")"
   ]
  },
  {
   "cell_type": "code",
   "execution_count": 11,
   "id": "d4fc832d",
   "metadata": {},
   "outputs": [
    {
     "name": "stdout",
     "output_type": "stream",
     "text": [
      "Enter the mass of the first object (in kg): 20\n",
      "Enter the mass of the second object (in kg): 40\n",
      "Enter the distance between the two objects (in meters): 3\n",
      "The gravitational force between the two objects is: 5.93e-09 N\n"
     ]
    }
   ],
   "source": [
    "8\n",
    "def calculate_gravitational_force(m1, m2, d):\n",
    "    G = 6.67430e-11  # Newton's gravitational constant\n",
    "    force = G * (m1 * m2) / (d ** 2)\n",
    "    return force\n",
    "\n",
    "m1 = float(input(\"Enter the mass of the first object (in kg): \"))\n",
    "m2 = float(input(\"Enter the mass of the second object (in kg): \"))\n",
    "d = float(input(\"Enter the distance between the two objects (in meters): \"))\n",
    "\n",
    "force = calculate_gravitational_force(m1, m2, d)\n",
    "print(f\"The gravitational force between the two objects is: {force:.2e} N\")\n"
   ]
  },
  {
   "cell_type": "code",
   "execution_count": 12,
   "id": "2e30f394",
   "metadata": {},
   "outputs": [
    {
     "name": "stdout",
     "output_type": "stream",
     "text": [
      "Enter a number: 34\n",
      "The number 34 is Even.\n"
     ]
    }
   ],
   "source": [
    "9\n",
    "def check_even_or_odd(number):\n",
    "    if number % 2 == 0:\n",
    "        return \"Even\"\n",
    "    else:\n",
    "        return \"Odd\"\n",
    "\n",
    "number = int(input(\"Enter a number: \"))\n",
    "\n",
    "result = check_even_or_odd(number)\n",
    "\n",
    "print(f\"The number {number} is {result}.\")\n"
   ]
  },
  {
   "cell_type": "code",
   "execution_count": 13,
   "id": "a1a576bd",
   "metadata": {},
   "outputs": [
    {
     "name": "stdout",
     "output_type": "stream",
     "text": [
      "Enter a number: 35\n",
      "The result is: 40\n"
     ]
    }
   ],
   "source": [
    "10\n",
    "def process_number(number):\n",
    "    difference = abs(number - 15) \n",
    "\n",
    "    if number > 15:\n",
    "        result = 2 * difference \n",
    "    else:\n",
    "        result = 4 * difference \n",
    "    \n",
    "    return result\n",
    "\n",
    "\n",
    "number = int(input(\"Enter a number: \"))\n",
    "\n",
    "result = process_number(number)\n",
    "print(f\"The result is: {result}\")\n"
   ]
  },
  {
   "cell_type": "code",
   "execution_count": 14,
   "id": "b9778053",
   "metadata": {},
   "outputs": [
    {
     "name": "stdout",
     "output_type": "stream",
     "text": [
      "Enter the first number: 45\n",
      "Enter the second number: 56\n",
      "Enter the third number: 67\n",
      "The largest number among 45.0, 56.0, and 67.0 is: 67.0\n"
     ]
    }
   ],
   "source": [
    "11\n",
    "def find_largest(a, b, c):\n",
    "    if a >= b and a >= c:\n",
    "        return a\n",
    "    elif b >= a and b >= c:\n",
    "        return b\n",
    "    else:\n",
    "        return c\n",
    "\n",
    "a = float(input(\"Enter the first number: \"))\n",
    "b = float(input(\"Enter the second number: \"))\n",
    "c = float(input(\"Enter the third number: \"))\n",
    "\n",
    "largest = find_largest(a, b, c)\n",
    "print(f\"The largest number among {a}, {b}, and {c} is: {largest}\")"
   ]
  },
  {
   "cell_type": "code",
   "execution_count": 15,
   "id": "c401826e",
   "metadata": {},
   "outputs": [
    {
     "name": "stdout",
     "output_type": "stream",
     "text": [
      "Enter the length of the first side: 4\n",
      "Enter the length of the second side: 5\n",
      "Enter the length of the third side: 7\n",
      "The triangle is: Scalene Triangle\n"
     ]
    }
   ],
   "source": [
    "12\n",
    "def check_triangle_type(side1, side2, side3):\n",
    "    if side1 == side2 == side3:\n",
    "        return \"Equilateral Triangle\"\n",
    "    elif side1 == side2 or side2 == side3 or side1 == side3:\n",
    "        return \"Isosceles Triangle\"\n",
    "    else:\n",
    "        return \"Scalene Triangle\"\n",
    "\n",
    "side1 = float(input(\"Enter the length of the first side: \"))\n",
    "side2 = float(input(\"Enter the length of the second side: \"))\n",
    "side3 = float(input(\"Enter the length of the third side: \"))\n",
    "\n",
    "if side1 + side2 > side3 and side2 + side3 > side1 and side1 + side3 > side2:\n",
    "    triangle_type = check_triangle_type(side1, side2, side3)\n",
    "    print(f\"The triangle is: {triangle_type}\")\n",
    "else:\n",
    "    print(\"The given sides do not form a valid triangle.\")\n",
    "\n"
   ]
  },
  {
   "cell_type": "code",
   "execution_count": 16,
   "id": "06d239b1",
   "metadata": {},
   "outputs": [
    {
     "name": "stdout",
     "output_type": "stream",
     "text": [
      "Enter a year: 2024\n",
      "2024 is a leap year.\n"
     ]
    }
   ],
   "source": [
    "13\n",
    "def is_leap_year(year):\n",
    "    if (year % 4 == 0 and year % 100 != 0) or (year % 400 == 0):\n",
    "        return True\n",
    "    else:\n",
    "        return False\n",
    "year = int(input(\"Enter a year: \"))\n",
    "if is_leap_year(year):\n",
    "    print(f\"{year} is a leap year.\")\n",
    "else:\n",
    "    print(f\"{year} is not a leap year.\")"
   ]
  },
  {
   "cell_type": "code",
   "execution_count": 17,
   "id": "c6c588f2",
   "metadata": {},
   "outputs": [
    {
     "name": "stdout",
     "output_type": "stream",
     "text": [
      "Enter marks for subject 1: 79\n",
      "Enter marks for subject 2: 98\n",
      "Enter marks for subject 3: 85\n",
      "Enter marks for subject 4: 89\n",
      "Average Marks: 87.75\n",
      "Grade: A\n"
     ]
    }
   ],
   "source": [
    "14\n",
    "def calculate_grade(average):\n",
    "    if average >= 75:\n",
    "        return 'A'\n",
    "    elif 60 <= average < 75:\n",
    "        return 'B'\n",
    "    elif 40 <= average < 60:\n",
    "        return 'C'\n",
    "    else:\n",
    "        return 'D'\n",
    "subject1 = float(input(\"Enter marks for subject 1: \"))\n",
    "subject2 = float(input(\"Enter marks for subject 2: \"))\n",
    "subject3 = float(input(\"Enter marks for subject 3: \"))\n",
    "subject4 = float(input(\"Enter marks for subject 4: \"))\n",
    "\n",
    "average_marks = (subject1 + subject2 + subject3 + subject4) / 4\n",
    "grade = calculate_grade(average_marks)\n",
    "print(f\"Average Marks: {average_marks:.2f}\")\n",
    "print(f\"Grade: {grade}\")\n"
   ]
  },
  {
   "cell_type": "code",
   "execution_count": 18,
   "id": "e6e4a35b",
   "metadata": {},
   "outputs": [
    {
     "name": "stdout",
     "output_type": "stream",
     "text": [
      "Enter the first number: 48\n",
      "Enter the second number: 76\n",
      "Enter the operation (+, -, *, /): /\n",
      "The result is: 0.631578947368421\n"
     ]
    }
   ],
   "source": [
    "15\n",
    "def calculator(num1, num2, operation):\n",
    "    if operation == '+':\n",
    "        return num1 + num2\n",
    "    elif operation == '-':\n",
    "        return num1 - num2\n",
    "    elif operation == '*':\n",
    "        return num1 * num2\n",
    "    elif operation == '/':\n",
    "        if num2 != 0:\n",
    "            return num1 / num2\n",
    "        else:\n",
    "            return \"Error: Division by zero is not allowed.\"\n",
    "    else:\n",
    "        return \"Invalid operation\"\n",
    "num1 = float(input(\"Enter the first number: \"))\n",
    "num2 = float(input(\"Enter the second number: \"))\n",
    "operation = input(\"Enter the operation (+, -, *, /): \")\n",
    "result = calculator(num1, num2, operation)\n",
    "print(f\"The result is: {result}\")\n"
   ]
  },
  {
   "cell_type": "code",
   "execution_count": 19,
   "id": "2d577bf6",
   "metadata": {},
   "outputs": [
    {
     "name": "stdout",
     "output_type": "stream",
     "text": [
      "Enter coefficient a: 2\n",
      "Enter coefficient b: 3\n",
      "Enter coefficient c: 2\n",
      "Two complex roots: -0.75 + 0.6614378277661477i and -0.75 - 0.6614378277661477i\n"
     ]
    }
   ],
   "source": [
    "16\n",
    "import math\n",
    "def find_roots(a, b, c):\n",
    "    discriminant = b**2 - 4*a*c\n",
    "    if discriminant > 0:\n",
    "        root1 = (-b + math.sqrt(discriminant)) / (2 * a)\n",
    "        root2 = (-b - math.sqrt(discriminant)) / (2 * a)\n",
    "        print(f\"Two real and distinct roots: {root1} and {root2}\")\n",
    "    elif discriminant == 0:\n",
    "        root = -b / (2 * a)\n",
    "        print(f\"One real root: {root}\")\n",
    "    else:\n",
    "        real_part = -b / (2 * a)\n",
    "        imaginary_part = math.sqrt(-discriminant) / (2 * a)\n",
    "        print(f\"Two complex roots: {real_part} + {imaginary_part}i and {real_part} - {imaginary_part}i\")\n",
    "a = float(input(\"Enter coefficient a: \"))\n",
    "b = float(input(\"Enter coefficient b: \"))\n",
    "c = float(input(\"Enter coefficient c: \"))\n",
    "if a == 0:\n",
    "    print(\"Coefficient 'a' cannot be zero in a quadratic equation.\")\n",
    "else:\n",
    "    find_roots(a, b, c)"
   ]
  },
  {
   "cell_type": "code",
   "execution_count": 20,
   "id": "fde42dd7",
   "metadata": {},
   "outputs": [
    {
     "name": "stdout",
     "output_type": "stream",
     "text": [
      "Enter the value of n: 5\n",
      "1 2 3 4 5 "
     ]
    }
   ],
   "source": [
    "17\n",
    "def print_numbers(n):\n",
    "    for i in range(1, n + 1):\n",
    "        print(i, end=\" \")\n",
    "n = int(input(\"Enter the value of n: \"))\n",
    "print_numbers(n)\n"
   ]
  },
  {
   "cell_type": "code",
   "execution_count": 22,
   "id": "cf12854b",
   "metadata": {},
   "outputs": [
    {
     "name": "stdout",
     "output_type": "stream",
     "text": [
      "Enter the value of n: 4\n",
      "The sum of natural numbers from 1 to 4 is: 10\n"
     ]
    }
   ],
   "source": [
    "18\n",
    "def sum_of_natural_numbers(n):\n",
    "    return n * (n + 1) // 2 \n",
    "n = int(input(\"Enter the value of n: \"))\n",
    "if n <= 0:\n",
    "    print(\"Please enter a positive integer.\")\n",
    "else:\n",
    "    total_sum = sum_of_natural_numbers(n)\n",
    "    print(f\"The sum of natural numbers from 1 to {n} is: {total_sum}\")"
   ]
  },
  {
   "cell_type": "code",
   "execution_count": 24,
   "id": "04b31cc6",
   "metadata": {},
   "outputs": [
    {
     "name": "stdout",
     "output_type": "stream",
     "text": [
      "Enter a number: 56\n",
      "The sum of digits of 56 is: 11\n"
     ]
    }
   ],
   "source": [
    "19\n",
    "def sum_of_digits(number):\n",
    "    total = 0\n",
    "    while number > 0:\n",
    "        digit = number % 10 \n",
    "        total += digit  \n",
    "        number //= 10 \n",
    "    return total\n",
    "num = int(input(\"Enter a number: \"))\n",
    "result = sum_of_digits(num)\n",
    "print(f\"The sum of digits of {num} is: {result}\")"
   ]
  },
  {
   "cell_type": "code",
   "execution_count": 25,
   "id": "c7913ea7",
   "metadata": {},
   "outputs": [
    {
     "name": "stdout",
     "output_type": "stream",
     "text": [
      "Enter a number: 44\n",
      "Factors of 44 are:\n",
      "1\n",
      "2\n",
      "4\n",
      "11\n",
      "22\n",
      "44\n"
     ]
    }
   ],
   "source": [
    "20\n",
    "def print_factors(number):\n",
    "    print(f\"Factors of {number} are:\")\n",
    "    for i in range(1, number + 1):\n",
    "        if number % i == 0:\n",
    "            print(i)\n",
    "num = int(input(\"Enter a number: \"))\n",
    "if num <= 0:\n",
    "    print(\"Please enter a positive integer.\")\n",
    "else:\n",
    "    print_factors(num)\n"
   ]
  },
  {
   "cell_type": "code",
   "execution_count": 26,
   "id": "b62d7061",
   "metadata": {},
   "outputs": [
    {
     "name": "stdout",
     "output_type": "stream",
     "text": [
      "Enter a number: 56\n",
      "Reversed Number: 65\n"
     ]
    }
   ],
   "source": [
    "21\n",
    "def reverse_number(n):\n",
    "    \n",
    "    reversed_num = int(str(n)[::-1])\n",
    "    return reversed_num\n",
    "\n",
    "\n",
    "num = int(input(\"Enter a number: \"))\n",
    "print(\"Reversed Number:\", reverse_number(num))\n"
   ]
  },
  {
   "cell_type": "code",
   "execution_count": 27,
   "id": "b4e0643c",
   "metadata": {},
   "outputs": [
    {
     "name": "stdout",
     "output_type": "stream",
     "text": [
      "Enter a number: 5\n",
      "The factorial of 5 is 120\n"
     ]
    }
   ],
   "source": [
    "22\n",
    "def factorial(n):\n",
    "    if n == 0 or n == 1:\n",
    "        return 1\n",
    "    else:\n",
    "        return n * factorial(n - 1)\n",
    "num = int(input(\"Enter a number: \"))\n",
    "\n",
    "if num < 0:\n",
    "    print(\"Factorial is not defined for negative numbers.\")\n",
    "else:\n",
    "    print(f\"The factorial of {num} is {factorial(num)}\")\n"
   ]
  },
  {
   "cell_type": "code",
   "execution_count": 28,
   "id": "c0710d88",
   "metadata": {},
   "outputs": [
    {
     "name": "stdout",
     "output_type": "stream",
     "text": [
      "Enter a number: 343\n",
      "343 is a palindrome.\n"
     ]
    }
   ],
   "source": [
    "23\n",
    "def is_palindrome(num):\n",
    "    num_str = str(num)\n",
    "    return num_str == num_str[::-1]\n",
    "num = int(input(\"Enter a number: \"))\n",
    "if is_palindrome(num):\n",
    "    print(f\"{num} is a palindrome.\")\n",
    "else:\n",
    "    print(f\"{num} is not a palindrome.\")\n"
   ]
  },
  {
   "cell_type": "code",
   "execution_count": 29,
   "id": "8a560f40",
   "metadata": {},
   "outputs": [
    {
     "name": "stdout",
     "output_type": "stream",
     "text": [
      "Enter a number: 46\n",
      "46 is not a prime number.\n"
     ]
    }
   ],
   "source": [
    "24\n",
    "def is_prime(num):\n",
    "    if num <= 1:\n",
    "        return False\n",
    "    for i in range(2, int(num**0.5) + 1):\n",
    "        if num % i == 0:\n",
    "            return False\n",
    "    return True\n",
    "num = int(input(\"Enter a number: \"))\n",
    "if is_prime(num):\n",
    "    print(f\"{num} is a prime number.\")\n",
    "else:\n",
    "    print(f\"{num} is not a prime number.\")\n"
   ]
  },
  {
   "cell_type": "code",
   "execution_count": 30,
   "id": "a3c3e531",
   "metadata": {},
   "outputs": [
    {
     "name": "stdout",
     "output_type": "stream",
     "text": [
      "Enter a number: 567\n",
      "567 is not an Armstrong number.\n"
     ]
    }
   ],
   "source": [
    "25\n",
    "def is_armstrong(num):\n",
    "    num_str = str(num)\n",
    "    num_digits = len(num_str)\n",
    "    sum_of_powers = sum(int(digit) ** num_digits for digit in num_str)\n",
    "    return sum_of_powers == num\n",
    "num = int(input(\"Enter a number: \"))\n",
    "if is_armstrong(num):\n",
    "    print(f\"{num} is an Armstrong number.\")\n",
    "else:\n",
    "    print(f\"{num} is not an Armstrong number.\")\n"
   ]
  },
  {
   "cell_type": "code",
   "execution_count": 31,
   "id": "e7e64f9a",
   "metadata": {},
   "outputs": [
    {
     "name": "stdout",
     "output_type": "stream",
     "text": [
      "Enter the number of terms: 4\n",
      "Fibonacci series for 4 terms: [0, 1, 1, 2]\n"
     ]
    }
   ],
   "source": [
    "26\n",
    "def fibonacci_series(n):\n",
    "    a, b = 0, 1\n",
    "    result = []\n",
    "    for _ in range(n):\n",
    "        result.append(a)\n",
    "        a, b = b, a + b\n",
    "    \n",
    "    return result\n",
    "n = int(input(\"Enter the number of terms: \"))\n",
    "if n <= 0:\n",
    "    print(\"Please enter a positive integer.\")\n",
    "else:\n",
    "    print(f\"Fibonacci series for {n} terms: {fibonacci_series(n)}\")\n"
   ]
  },
  {
   "cell_type": "code",
   "execution_count": 32,
   "id": "dd3128f1",
   "metadata": {},
   "outputs": [
    {
     "name": "stdout",
     "output_type": "stream",
     "text": [
      "Enter the number for multiplication table: 7\n",
      "Enter the number of terms (default 10): 9\n",
      "7 x 1 = 7\n",
      "7 x 2 = 14\n",
      "7 x 3 = 21\n",
      "7 x 4 = 28\n",
      "7 x 5 = 35\n",
      "7 x 6 = 42\n",
      "7 x 7 = 49\n",
      "7 x 8 = 56\n",
      "7 x 9 = 63\n"
     ]
    }
   ],
   "source": [
    "27\n",
    "def multiplication_table(num, terms=10):\n",
    "    for i in range(1, terms + 1):\n",
    "        print(f\"{num} x {i} = {num * i}\")\n",
    "num = int(input(\"Enter the number for multiplication table: \"))\n",
    "terms = int(input(\"Enter the number of terms (default 10): \") or 10)\n",
    "multiplication_table(num, terms)"
   ]
  },
  {
   "cell_type": "code",
   "execution_count": 33,
   "id": "c4beb15a",
   "metadata": {},
   "outputs": [
    {
     "name": "stdout",
     "output_type": "stream",
     "text": [
      "Enter the number of elements in the list: 3\n",
      "Enter element 1: 5\n",
      "Enter element 2: 7\n",
      "Enter element 3: 3\n",
      "The list is: ['5', '7', '3']\n"
     ]
    }
   ],
   "source": [
    "28\n",
    "n = int(input(\"Enter the number of elements in the list: \"))\n",
    "\n",
    "user_list = []\n",
    "for i in range(n):\n",
    "    element = input(f\"Enter element {i+1}: \")\n",
    "    user_list.append(element)\n",
    "print(\"The list is:\", user_list)\n"
   ]
  },
  {
   "cell_type": "code",
   "execution_count": 34,
   "id": "a68268ee",
   "metadata": {},
   "outputs": [
    {
     "name": "stdout",
     "output_type": "stream",
     "text": [
      "Enter the number of elements: 4\n",
      "Enter number 1: 67\n",
      "Enter number 2: 43\n",
      "Enter number 3: 89\n",
      "Enter number 4: 78\n",
      "The average of the numbers is: 69.25\n"
     ]
    }
   ],
   "source": [
    "29\n",
    "n = int(input(\"Enter the number of elements: \"))\n",
    "numbers = []\n",
    "\n",
    "for i in range(n):\n",
    "    num = float(input(f\"Enter number {i+1}: \"))\n",
    "    numbers.append(num)\n",
    "if n > 0:\n",
    "    average = sum(numbers) / n\n",
    "    print(f\"The average of the numbers is: {average}\")\n",
    "else:\n",
    "    print(\"No numbers to calculate the average.\")"
   ]
  },
  {
   "cell_type": "code",
   "execution_count": 35,
   "id": "a9cfe6e2",
   "metadata": {},
   "outputs": [
    {
     "name": "stdout",
     "output_type": "stream",
     "text": [
      "Enter the number of elements in the list: 3\n",
      "Enter number 1: 56\n",
      "Enter number 2: 78\n",
      "Enter number 3: 63\n",
      "The largest element in the list is: 78.0\n"
     ]
    }
   ],
   "source": [
    "30\n",
    "n = int(input(\"Enter the number of elements in the list: \"))\n",
    "numbers = []\n",
    "\n",
    "for i in range(n):\n",
    "    num = float(input(f\"Enter number {i+1}: \"))\n",
    "    numbers.append(num)\n",
    "if numbers:\n",
    "    largest = max(numbers)\n",
    "    print(f\"The largest element in the list is: {largest}\")\n",
    "else:\n",
    "    print(\"The list is empty, no largest element.\")\n"
   ]
  },
  {
   "cell_type": "code",
   "execution_count": 36,
   "id": "dae9985b",
   "metadata": {},
   "outputs": [
    {
     "name": "stdout",
     "output_type": "stream",
     "text": [
      "Enter the number of elements in the list: 4\n",
      "Enter number 1: 45\n",
      "Enter number 2: 63\n",
      "Enter number 3: 41\n",
      "Enter number 4: 68\n",
      "Enter the value to search for: 45\n",
      "Value 45.0 found at index 0.\n"
     ]
    }
   ],
   "source": [
    "31\n",
    "def linear_search(arr, target):\n",
    "    for index, value in enumerate(arr):\n",
    "        if value == target:\n",
    "            return index\n",
    "    return -1\n",
    "\n",
    "n = int(input(\"Enter the number of elements in the list: \"))\n",
    "\n",
    "arr = []\n",
    "for i in range(n):\n",
    "    num = float(input(f\"Enter number {i+1}: \"))\n",
    "    arr.append(num)\n",
    "\n",
    "target = float(input(\"Enter the value to search for: \"))\n",
    "index = linear_search(arr, target)\n",
    "\n",
    "if index != -1:\n",
    "    print(f\"Value {target} found at index {index}.\")\n",
    "else:\n",
    "    print(f\"Value {target} not found in the list.\")\n"
   ]
  },
  {
   "cell_type": "code",
   "execution_count": 37,
   "id": "88a3daa9",
   "metadata": {},
   "outputs": [
    {
     "name": "stdout",
     "output_type": "stream",
     "text": [
      "Enter lines of text (press Enter twice to end):\n",
      "lip\n",
      "\n",
      "LIP\n"
     ]
    }
   ],
   "source": [
    "32\n",
    "def capitalize_lines():\n",
    "    print(\"Enter lines of text (press Enter twice to end):\")\n",
    "    \n",
    "    lines = []\n",
    "    \n",
    "    while True:\n",
    "        line = input()\n",
    "        if line == \"\":\n",
    "            break\n",
    "        lines.append(line)\n",
    "    for line in lines:\n",
    "        print(line.upper())\n",
    "capitalize_lines()"
   ]
  },
  {
   "cell_type": "code",
   "execution_count": 38,
   "id": "8973ec97",
   "metadata": {},
   "outputs": [
    {
     "name": "stdout",
     "output_type": "stream",
     "text": [
      "Enter comma-separated numbers: 566\n",
      "List: ['566']\n",
      "Tuple: ('566',)\n"
     ]
    }
   ],
   "source": [
    "33\n",
    "input_str = input(\"Enter comma-separated numbers: \")\n",
    "\n",
    "numbers_list = input_str.split(',')\n",
    "numbers_tuple = tuple(numbers_list)\n",
    "\n",
    "print(\"List:\", numbers_list)\n",
    "print(\"Tuple:\", numbers_tuple)\n",
    "\n"
   ]
  },
  {
   "cell_type": "code",
   "execution_count": 39,
   "id": "9a255f77",
   "metadata": {},
   "outputs": [
    {
     "name": "stdout",
     "output_type": "stream",
     "text": [
      "Enter transaction (D/W amount) or '!' to stop: D 300\n",
      "Enter transaction (D/W amount) or '!' to stop: D 300\n",
      "Enter transaction (D/W amount) or '!' to stop: W 200\n",
      "Enter transaction (D/W amount) or '!' to stop: D 100\n",
      "Enter transaction (D/W amount) or '!' to stop: !\n",
      "500\n"
     ]
    }
   ],
   "source": [
    "34\n",
    "def compute_net_amount():\n",
    "    net_amount = 0\n",
    "    while True:\n",
    "        transaction = input(\"Enter transaction (D/W amount) or '!' to stop: \")\n",
    "        if transaction == '!':\n",
    "            break\n",
    "        action, amount = transaction.split()\n",
    "        amount = int(amount)\n",
    "        if action == 'D':\n",
    "            net_amount += amount\n",
    "        elif action == 'W':\n",
    "            net_amount -= amount\n",
    "    print(net_amount)\n",
    "compute_net_amount()"
   ]
  },
  {
   "cell_type": "code",
   "execution_count": null,
   "id": "fc0cc2fb",
   "metadata": {},
   "outputs": [],
   "source": []
  }
 ],
 "metadata": {
  "kernelspec": {
   "display_name": "Python 3 (ipykernel)",
   "language": "python",
   "name": "python3"
  },
  "language_info": {
   "codemirror_mode": {
    "name": "ipython",
    "version": 3
   },
   "file_extension": ".py",
   "mimetype": "text/x-python",
   "name": "python",
   "nbconvert_exporter": "python",
   "pygments_lexer": "ipython3",
   "version": "3.11.5"
  }
 },
 "nbformat": 4,
 "nbformat_minor": 5
}
